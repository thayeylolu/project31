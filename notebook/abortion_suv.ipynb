{
  "metadata": {
    "language_info": {
      "codemirror_mode": {
        "name": "python",
        "version": 3
      },
      "file_extension": ".py",
      "mimetype": "text/x-python",
      "name": "python",
      "nbconvert_exporter": "python",
      "pygments_lexer": "ipython3",
      "version": "3.8"
    },
    "kernelspec": {
      "name": "python",
      "display_name": "Python (Pyodide)",
      "language": "python"
    }
  },
  "nbformat_minor": 4,
  "nbformat": 4,
  "cells": [
    {
      "cell_type": "code",
      "source": "import re\nimport string\nimport numpy as np \nimport random\nimport pandas as pd \nimport matplotlib.pyplot as plt\n%matplotlib inline\nfrom collections import Counter\nfrom PIL import Image",
      "metadata": {
        "trusted": true
      },
      "execution_count": 74,
      "outputs": []
    },
    {
      "cell_type": "code",
      "source": "ab = pd.read_csv('abortion_suvel.csv', thousands = ',')",
      "metadata": {
        "trusted": true
      },
      "execution_count": 84,
      "outputs": []
    },
    {
      "cell_type": "code",
      "source": "ab.head()",
      "metadata": {
        "trusted": true
      },
      "execution_count": 85,
      "outputs": [
        {
          "execution_count": 85,
          "output_type": "execute_result",
          "data": {
            "text/plain": "          State Status_detail  Status   2010   2011   2012   2013   2014  \\\n0       Alabama        Banned       1  10280   9523   9076   8485   8080   \n1        Alaska         Legal       0   1715   1627   1632   1450   1518   \n2       Arizona    Threatened       1  11438  14401  13340  13401  12900   \n3      Arkansas        Banned       1   4532   4033   3782   3730   4253   \n4  California**         Legal       0      0      0      0      0      0   \n\n    2015   2016   2017   2018   2019  \n0   5899   6642   6063   6484   6009  \n1   1334   1260   1255   1283   1270  \n2  12655  13332  12533  12438  13097  \n3   3771   3207   3249   3069   2963  \n4      0      0      0      0      0  ",
            "text/html": "<div>\n<style scoped>\n    .dataframe tbody tr th:only-of-type {\n        vertical-align: middle;\n    }\n\n    .dataframe tbody tr th {\n        vertical-align: top;\n    }\n\n    .dataframe thead th {\n        text-align: right;\n    }\n</style>\n<table border=\"1\" class=\"dataframe\">\n  <thead>\n    <tr style=\"text-align: right;\">\n      <th></th>\n      <th>State</th>\n      <th>Status_detail</th>\n      <th>Status</th>\n      <th>2010</th>\n      <th>2011</th>\n      <th>2012</th>\n      <th>2013</th>\n      <th>2014</th>\n      <th>2015</th>\n      <th>2016</th>\n      <th>2017</th>\n      <th>2018</th>\n      <th>2019</th>\n    </tr>\n  </thead>\n  <tbody>\n    <tr>\n      <th>0</th>\n      <td>Alabama</td>\n      <td>Banned</td>\n      <td>1</td>\n      <td>10280</td>\n      <td>9523</td>\n      <td>9076</td>\n      <td>8485</td>\n      <td>8080</td>\n      <td>5899</td>\n      <td>6642</td>\n      <td>6063</td>\n      <td>6484</td>\n      <td>6009</td>\n    </tr>\n    <tr>\n      <th>1</th>\n      <td>Alaska</td>\n      <td>Legal</td>\n      <td>0</td>\n      <td>1715</td>\n      <td>1627</td>\n      <td>1632</td>\n      <td>1450</td>\n      <td>1518</td>\n      <td>1334</td>\n      <td>1260</td>\n      <td>1255</td>\n      <td>1283</td>\n      <td>1270</td>\n    </tr>\n    <tr>\n      <th>2</th>\n      <td>Arizona</td>\n      <td>Threatened</td>\n      <td>1</td>\n      <td>11438</td>\n      <td>14401</td>\n      <td>13340</td>\n      <td>13401</td>\n      <td>12900</td>\n      <td>12655</td>\n      <td>13332</td>\n      <td>12533</td>\n      <td>12438</td>\n      <td>13097</td>\n    </tr>\n    <tr>\n      <th>3</th>\n      <td>Arkansas</td>\n      <td>Banned</td>\n      <td>1</td>\n      <td>4532</td>\n      <td>4033</td>\n      <td>3782</td>\n      <td>3730</td>\n      <td>4253</td>\n      <td>3771</td>\n      <td>3207</td>\n      <td>3249</td>\n      <td>3069</td>\n      <td>2963</td>\n    </tr>\n    <tr>\n      <th>4</th>\n      <td>California**</td>\n      <td>Legal</td>\n      <td>0</td>\n      <td>0</td>\n      <td>0</td>\n      <td>0</td>\n      <td>0</td>\n      <td>0</td>\n      <td>0</td>\n      <td>0</td>\n      <td>0</td>\n      <td>0</td>\n      <td>0</td>\n    </tr>\n  </tbody>\n</table>\n</div>"
          },
          "metadata": {}
        }
      ]
    },
    {
      "cell_type": "code",
      "source": "ab.info()",
      "metadata": {
        "trusted": true
      },
      "execution_count": 86,
      "outputs": [
        {
          "name": "stdout",
          "text": "<class 'pandas.core.frame.DataFrame'>\nRangeIndex: 52 entries, 0 to 51\nData columns (total 13 columns):\n #   Column         Non-Null Count  Dtype \n---  ------         --------------  ----- \n 0   State          52 non-null     object\n 1   Status_detail  52 non-null     object\n 2   Status         52 non-null     int64 \n 3   2010           52 non-null     int64 \n 4   2011           52 non-null     int64 \n 5   2012           52 non-null     int64 \n 6   2013           52 non-null     int64 \n 7   2014           52 non-null     int64 \n 8   2015           52 non-null     int64 \n 9   2016           52 non-null     int64 \n 10  2017           52 non-null     int64 \n 11  2018           52 non-null     int64 \n 12  2019           52 non-null     int64 \ndtypes: int64(11), object(2)\nmemory usage: 4.9+ KB\n",
          "output_type": "stream"
        }
      ]
    },
    {
      "cell_type": "code",
      "source": "data = ab[['2010','2011','2012','2013','2014','2015','2016','2017','2018','2019']].to_numpy()\ntarget = ab['Status'].to_numpy()",
      "metadata": {
        "trusted": true
      },
      "execution_count": 108,
      "outputs": []
    },
    {
      "cell_type": "code",
      "source": "ab1 = pd.read_csv('abortion_suvel_2.csv', thousands = ',')",
      "metadata": {
        "trusted": true
      },
      "execution_count": 140,
      "outputs": []
    },
    {
      "cell_type": "code",
      "source": "# data = ab1[['Alabama','Alaska','Arizona','Arkansas','California**','Colorado','Connecticut','Delaware','District of Columbia','Florida','Georgia','Hawaii','Idaho','Illinois','Indiana','Iowa','Kansas','Kentucky','Louisiana','Maine','Maryland**','Massachusetts','Michigan','Minnesota','Mississippi','Missouri','Montana','Nebraska','Nevada','New Hampshire**','New Jersey','New Mexico','New York City','New York State','North Carolina','North Dakota','Ohio','Oklahoma','Oregon','Pennsylvania','Rhode Island','South Carolina','South Dakota','Tennessee','Texas','Utah','Vermont','Virginia','Washington','West Virginia','Wisconsin','Wyoming']].to_numpy()\n# target = ab1['Status'].to_numpy()",
      "metadata": {},
      "execution_count": null,
      "outputs": []
    },
    {
      "cell_type": "code",
      "source": "from sklearn.model_selection import train_test_split\ntrain_input, test_input, train_target, test_target = train_test_split(data, target, test_size=0.2, random_state=42)",
      "metadata": {
        "trusted": true
      },
      "execution_count": 109,
      "outputs": []
    },
    {
      "cell_type": "code",
      "source": "print(train_input.shape, test_input.shape)",
      "metadata": {
        "trusted": true
      },
      "execution_count": 110,
      "outputs": [
        {
          "name": "stdout",
          "text": "(41, 10) (11, 10)\n",
          "output_type": "stream"
        }
      ]
    },
    {
      "cell_type": "code",
      "source": "from sklearn.preprocessing import StandardScaler\nss = StandardScaler()\nss.fit(train_input)\ntrain_scaled = ss.transform(train_input)\ntest_scaled = ss.transform(test_input)",
      "metadata": {
        "trusted": true
      },
      "execution_count": 111,
      "outputs": []
    },
    {
      "cell_type": "code",
      "source": "from sklearn.linear_model import LogisticRegression\nlr = LogisticRegression()\nlr.fit(train_scaled, train_target)\nprint(lr.score(train_scaled, train_target))\nprint(lr.score(test_scaled, test_target))",
      "metadata": {
        "trusted": true
      },
      "execution_count": 112,
      "outputs": [
        {
          "name": "stdout",
          "text": "0.6097560975609756\n0.6363636363636364\n",
          "output_type": "stream"
        }
      ]
    },
    {
      "cell_type": "code",
      "source": "print(lr.coef_, lr.intercept_)",
      "metadata": {
        "trusted": true
      },
      "execution_count": 113,
      "outputs": [
        {
          "name": "stdout",
          "text": "[[-0.26317556 -0.28953747 -0.05747408  0.08574162 -0.2006979   0.01424491\n   0.04114338  0.10137303  0.15159965  0.8046724 ]] [0.27172629]\n",
          "output_type": "stream"
        }
      ]
    },
    {
      "cell_type": "code",
      "source": "from sklearn.tree import DecisionTreeClassifier\ndt = DecisionTreeClassifier(random_state=42)\ndt.fit(train_input, train_target)\nprint(\"no-prune training score: \", dt.score(train_input, train_target))\nprint(\"no-prune testing score: \",dt.score(test_input, test_target))\n",
      "metadata": {
        "trusted": true
      },
      "execution_count": 114,
      "outputs": [
        {
          "name": "stdout",
          "text": "no-prune training score:  1.0\nno-prune testing score:  0.45454545454545453\n",
          "output_type": "stream"
        }
      ]
    },
    {
      "cell_type": "code",
      "source": "from sklearn.tree import DecisionTreeClassifier\ndt = DecisionTreeClassifier(max_depth=3, random_state=42)\ndt.fit(train_input, train_target)\nprint(\"prune training score: \", dt.score(train_input, train_target))\nprint(\"prune testing score: \",dt.score(test_input, test_target))",
      "metadata": {
        "trusted": true
      },
      "execution_count": 115,
      "outputs": [
        {
          "name": "stdout",
          "text": "prune training score:  0.8048780487804879\nprune testing score:  0.5454545454545454\n",
          "output_type": "stream"
        }
      ]
    },
    {
      "cell_type": "code",
      "source": "# import matplotlib.pyplot as plt\n# from sklearn.tree import plot_tree\n# plt.figure(figsize=(20,7))\n# plot_tree(dt, filled=True, feature_names=['2019', '2018'], max_depth=3)\n# plt.show()",
      "metadata": {
        "trusted": true
      },
      "execution_count": 141,
      "outputs": []
    },
    {
      "cell_type": "code",
      "source": "print(dt.feature_importances_)",
      "metadata": {
        "trusted": true
      },
      "execution_count": 119,
      "outputs": [
        {
          "name": "stdout",
          "text": "[0.19663656 0.         0.16568725 0.         0.         0.\n 0.         0.         0.         0.63767619]\n",
          "output_type": "stream"
        }
      ]
    },
    {
      "cell_type": "code",
      "source": "# 5 KFold cross validation\nfrom sklearn.model_selection import cross_validate\nfrom sklearn.model_selection import StratifiedKFold\nscores = cross_validate(dt, train_input, train_target, cv=StratifiedKFold())\nprint(np.mean(scores['test_score']))",
      "metadata": {
        "trusted": true
      },
      "execution_count": 120,
      "outputs": [
        {
          "name": "stdout",
          "text": "0.6305555555555555\n",
          "output_type": "stream"
        }
      ]
    },
    {
      "cell_type": "code",
      "source": "# 10 KFold cross validation\nsplitter = StratifiedKFold(n_splits=10, shuffle=True, random_state=42)\nscores = cross_validate(dt, train_input, train_target, cv=splitter)\nprint(np.mean(scores['test_score']))",
      "metadata": {
        "trusted": true
      },
      "execution_count": 121,
      "outputs": [
        {
          "name": "stdout",
          "text": "0.5549999999999999\n",
          "output_type": "stream"
        }
      ]
    },
    {
      "cell_type": "code",
      "source": "from sklearn.model_selection import GridSearchCV\nparams = {'min_impurity_decrease': [0.001, 0.002, 0.003, 0.004, 0.005]}",
      "metadata": {
        "trusted": true
      },
      "execution_count": 123,
      "outputs": []
    },
    {
      "cell_type": "code",
      "source": "gs = GridSearchCV(DecisionTreeClassifier(random_state=42), params, n_jobs=-1)",
      "metadata": {
        "trusted": true
      },
      "execution_count": 124,
      "outputs": []
    },
    {
      "cell_type": "code",
      "source": "gs.fit(train_input, train_target)",
      "metadata": {
        "trusted": true
      },
      "execution_count": 125,
      "outputs": [
        {
          "execution_count": 125,
          "output_type": "execute_result",
          "data": {
            "text/plain": "GridSearchCV(estimator=DecisionTreeClassifier(random_state=42), n_jobs=-1,\n             param_grid={'min_impurity_decrease': [0.001, 0.002, 0.003, 0.004,\n                                                   0.005]})"
          },
          "metadata": {}
        }
      ]
    },
    {
      "cell_type": "code",
      "source": "dt = gs.best_estimator_\nprint(\"post-prune from training score: \", dt.score(train_input, train_target))",
      "metadata": {
        "trusted": true
      },
      "execution_count": 126,
      "outputs": [
        {
          "name": "stdout",
          "text": "post-prune from training score:  1.0\n",
          "output_type": "stream"
        }
      ]
    },
    {
      "cell_type": "code",
      "source": "print(gs.best_estimator_)",
      "metadata": {
        "trusted": true
      },
      "execution_count": 127,
      "outputs": [
        {
          "name": "stdout",
          "text": "DecisionTreeClassifier(min_impurity_decrease=0.001, random_state=42)\n",
          "output_type": "stream"
        }
      ]
    },
    {
      "cell_type": "code",
      "source": "print(gs.cv_results_['mean_test_score'])",
      "metadata": {
        "trusted": true
      },
      "execution_count": 128,
      "outputs": [
        {
          "name": "stdout",
          "text": "[0.58333333 0.58333333 0.58333333 0.58333333 0.58333333]\n",
          "output_type": "stream"
        }
      ]
    },
    {
      "cell_type": "code",
      "source": "best_index = np.argmax(gs.cv_results_['mean_test_score'])\nprint(gs.cv_results_['params'][best_index])",
      "metadata": {
        "trusted": true
      },
      "execution_count": 129,
      "outputs": [
        {
          "name": "stdout",
          "text": "{'min_impurity_decrease': 0.001}\n",
          "output_type": "stream"
        }
      ]
    },
    {
      "cell_type": "code",
      "source": "from scipy.stats import uniform, randint",
      "metadata": {
        "trusted": true
      },
      "execution_count": 130,
      "outputs": []
    },
    {
      "cell_type": "code",
      "source": "params = {'min_impurity_decrease': uniform(0.0001, 0.001),\n          'max_depth': randint(20, 50),\n          'min_samples_split': randint(2, 25),\n          'min_samples_leaf': randint(1,25),\n         }",
      "metadata": {
        "trusted": true
      },
      "execution_count": 131,
      "outputs": []
    },
    {
      "cell_type": "code",
      "source": "from sklearn.model_selection import RandomizedSearchCV\ngs = RandomizedSearchCV(DecisionTreeClassifier(random_state=42), params,\n                        n_iter=100, n_jobs=-1, random_state=42)\ngs.fit(train_input, train_target)",
      "metadata": {
        "trusted": true
      },
      "execution_count": 132,
      "outputs": [
        {
          "execution_count": 132,
          "output_type": "execute_result",
          "data": {
            "text/plain": "RandomizedSearchCV(estimator=DecisionTreeClassifier(random_state=42),\n                   n_iter=100, n_jobs=-1,\n                   param_distributions={'max_depth': <scipy.stats._distn_infrastructure.rv_frozen object at 0xb7052c0>,\n                                        'min_impurity_decrease': <scipy.stats._distn_infrastructure.rv_frozen object at 0xb708550>,\n                                        'min_samples_leaf': <scipy.stats._distn_infrastructure.rv_frozen object at 0xb6fb1b8>,\n                                        'min_samples_split': <scipy.stats._distn_infrastructure.rv_frozen object at 0xae7fcb0>},\n                   random_state=42)"
          },
          "metadata": {}
        }
      ]
    },
    {
      "cell_type": "code",
      "source": "print(gs.best_params_)",
      "metadata": {
        "trusted": true
      },
      "execution_count": 133,
      "outputs": [
        {
          "name": "stdout",
          "text": "{'max_depth': 31, 'min_impurity_decrease': 0.0006142344384136117, 'min_samples_leaf': 3, 'min_samples_split': 6}\n",
          "output_type": "stream"
        }
      ]
    },
    {
      "cell_type": "code",
      "source": "print(\"post-prune from validation: \", np.max(gs.cv_results_['mean_test_score']))",
      "metadata": {
        "trusted": true
      },
      "execution_count": 134,
      "outputs": [
        {
          "name": "stdout",
          "text": "post-prune from validation:  0.6305555555555555\n",
          "output_type": "stream"
        }
      ]
    },
    {
      "cell_type": "code",
      "source": "dt = gs.best_estimator_\nprint(\"post-prune from testing: \", dt.score(test_input, test_target))",
      "metadata": {
        "trusted": true
      },
      "execution_count": 135,
      "outputs": [
        {
          "name": "stdout",
          "text": "post-prune from testing:  0.36363636363636365\n",
          "output_type": "stream"
        }
      ]
    }
  ]
}